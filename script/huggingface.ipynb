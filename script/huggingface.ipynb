{
 "cells": [
  {
   "cell_type": "code",
   "execution_count": 27,
   "metadata": {
    "scrolled": true
   },
   "outputs": [
    {
     "name": "stdout",
     "output_type": "stream",
     "text": [
      "Requirement already satisfied: faiss-cpu in c:\\users\\bgi340\\anaconda\\lib\\site-packages (1.9.0.post1)\n",
      "Requirement already satisfied: numpy<3.0,>=1.25.0 in c:\\users\\bgi340\\anaconda\\lib\\site-packages (from faiss-cpu) (1.26.4)\n",
      "Requirement already satisfied: packaging in c:\\users\\bgi340\\appdata\\roaming\\python\\python312\\site-packages (from faiss-cpu) (24.2)\n"
     ]
    }
   ],
   "source": [
    "# Installing necessary packages\n",
    "#!pip install sentence_transformers\n",
    "#!pip install pypdf\n",
    "!pip install faiss-cpu"
   ]
  },
  {
   "cell_type": "code",
   "execution_count": 1,
   "metadata": {},
   "outputs": [],
   "source": [
    "from langchain_community.document_loaders import PyPDFLoader\n",
    "from langchain_community.document_loaders import PyPDFDirectoryLoader\n",
    "from langchain.text_splitter import RecursiveCharacterTextSplitter\n",
    "from langchain_community.vectorstores import FAISS\n",
    "\n",
    "from langchain_community.embeddings import HuggingFaceBgeEmbeddings\n",
    "from langchain.prompts import PromptTemplate\n",
    "\n",
    "from langchain.chains import RetrievalQA"
   ]
  },
  {
   "cell_type": "code",
   "execution_count": 12,
   "metadata": {},
   "outputs": [
    {
     "data": {
      "text/plain": [
       "'C:\\\\Users\\\\bgi340\\\\Brintha\\\\mistral_LLM'"
      ]
     },
     "execution_count": 12,
     "metadata": {},
     "output_type": "execute_result"
    }
   ],
   "source": [
    "pwd"
   ]
  },
  {
   "cell_type": "code",
   "execution_count": 48,
   "metadata": {},
   "outputs": [
    {
     "data": {
      "text/plain": [
       "Document(metadata={'source': 'C:\\\\Users\\\\bgi340\\\\Brintha\\\\mistral_LLM\\\\us_census.pdf', 'page': 0}, page_content='RESEA RCH ARTICL E\\nUnderstanding urbanization: A study of\\ncensus and satellite-derived urban classes in\\nthe United States, 1990-2010\\nDeborah Balk\\nID\\n1,2\\n*, Stefan Leyk\\n3\\n, Bryan Jones\\n1,2\\n, Mark R. Montgomery\\n4\\n, Anastasia Clark\\n1\\n1 CUNY Institute for Demograph ic Researc h, City University of New York, New York, New York, United\\nStates of America, 2 Marxe School of Public and Interna tional Affairs, Baruch College, City University of New\\nYork, New York, New York, United States of America, 3 University of Colorad o, Boulder, Colorad o, United\\nStates of America, 4 Population Council, New York and Stony Brook University , Stony Brook, New York,\\nUnited States of America\\n* Deborah .Balk@bar uch.cuny. edu\\nAbstract\\nMost of future population growth will take place in the world’s cities and towns. Yet, there is\\nno well-established, consistent way to measure either urban land or people. Even census-\\nbased urban concepts and measures undergo frequent revision, impeding rigorous compar-')"
      ]
     },
     "execution_count": 48,
     "metadata": {},
     "output_type": "execute_result"
    }
   ],
   "source": [
    "## Read the ppdfs from the folder\n",
    "loader=PyPDFDirectoryLoader(\"C:/Users/bgi340/Brintha/mistral_LLM\")\n",
    "\n",
    "documents=loader.load()\n",
    "#print(documents)\n",
    "text_splitter=RecursiveCharacterTextSplitter(chunk_size=1000,chunk_overlap=50)\n",
    "\n",
    "final_documents=text_splitter.split_documents(documents)\n",
    "final_documents[0]"
   ]
  },
  {
   "cell_type": "code",
   "execution_count": 49,
   "metadata": {},
   "outputs": [
    {
     "data": {
      "text/plain": [
       "89"
      ]
     },
     "execution_count": 49,
     "metadata": {},
     "output_type": "execute_result"
    }
   ],
   "source": [
    "len(final_documents)"
   ]
  },
  {
   "cell_type": "code",
   "execution_count": 50,
   "metadata": {},
   "outputs": [],
   "source": [
    "## Embedding Using Huggingface\n",
    "huggingface_embeddings=HuggingFaceBgeEmbeddings(\n",
    "    model_name=\"BAAI/bge-small-en-v1.5\",      #sentence-transformers/all-MiniLM-l6-v2\n",
    "    model_kwargs={'device':'cpu'},\n",
    "    encode_kwargs={'normalize_embeddings':True}\n",
    "\n",
    ")"
   ]
  },
  {
   "cell_type": "code",
   "execution_count": 51,
   "metadata": {
    "scrolled": true
   },
   "outputs": [
    {
     "name": "stdout",
     "output_type": "stream",
     "text": [
      "[ 1.44318035e-02 -4.38729525e-02 -4.01028059e-03  2.51430254e-02\n",
      "  1.33437626e-02 -7.23351212e-03 -3.27955633e-02  1.10515263e-02\n",
      " -1.98575538e-02 -1.62747654e-03  1.32948095e-02 -3.35719623e-02\n",
      " -8.51220824e-03 -6.65009860e-03  1.82091892e-02 -9.24554188e-03\n",
      " -2.86269207e-02  7.42408410e-02  1.31107057e-02  4.37869597e-03\n",
      " -7.86713418e-03  9.99575853e-03 -5.31446375e-03 -2.84822322e-02\n",
      "  5.79482019e-02  6.29990995e-02 -1.28249219e-02 -1.62027031e-02\n",
      " -4.07649390e-02 -1.69134989e-01  4.54133302e-02 -1.36565138e-02\n",
      "  4.25170325e-02  2.28414834e-02  1.88813917e-03 -5.24615794e-02\n",
      "  4.89198118e-02  5.29558174e-02  1.46600641e-02  3.54188867e-02\n",
      " -2.52361730e-04 -2.72850841e-02 -3.19574587e-02 -1.62156466e-02\n",
      " -8.53730440e-02  3.69226933e-02 -5.31526729e-02  1.34437596e-02\n",
      " -8.33109617e-02  6.13054121e-03  1.74908582e-02 -4.26177680e-02\n",
      " -1.29347285e-02  6.35210574e-02 -2.75153611e-02  3.81262191e-02\n",
      "  1.77539308e-02  4.25947867e-02  6.09496981e-02  6.70677796e-03\n",
      " -1.45476721e-02 -2.76231999e-03 -2.04926372e-01  2.63589565e-02\n",
      " -2.31997226e-03  1.56188244e-02 -1.24352882e-02  1.14637744e-02\n",
      " -5.39324572e-03 -2.06788653e-03  3.99320670e-05  2.46047396e-02\n",
      "  3.02055813e-02  6.21963553e-02  4.30054888e-02  4.36032051e-03\n",
      " -4.12380174e-02 -3.60350423e-02  4.15005349e-02 -4.83720452e-02\n",
      "  2.95823496e-02  4.16448945e-03  2.13668123e-02 -5.96458279e-03\n",
      " -6.95752329e-04 -5.74978106e-02 -1.80104636e-02  1.73409879e-02\n",
      "  1.77818257e-02  2.96404418e-02 -4.60206438e-03 -3.55344750e-02\n",
      "  6.26822142e-03 -3.72830522e-03 -4.25666012e-02 -1.56748910e-02\n",
      "  5.27580157e-02 -6.91900356e-03  5.93940355e-02  3.54303330e-01\n",
      " -6.94529265e-02  6.40028296e-03  6.30169213e-02  1.55187119e-02\n",
      " -2.31942981e-02 -6.99516609e-02 -4.58766110e-02 -1.47086941e-02\n",
      " -1.81558505e-02  3.82591854e-03 -1.60871763e-02 -3.47472169e-02\n",
      " -2.82223523e-02  2.75001321e-02  4.47243750e-02 -8.97726938e-02\n",
      "  3.12663615e-02  5.80383167e-02  7.71371126e-02 -1.08550759e-02\n",
      "  1.27027715e-02  3.56638134e-02  2.06633862e-02 -9.00500044e-02\n",
      "  1.79066285e-02 -1.60613842e-02  1.97940618e-02  7.96429738e-02\n",
      "  5.73682189e-02 -2.08208412e-02  7.30161592e-02  1.48463566e-02\n",
      " -1.03163183e-01 -3.73199861e-03  5.04707871e-03  1.38109736e-02\n",
      "  3.66641060e-02 -8.89362209e-03 -6.04902245e-02 -8.53119825e-04\n",
      "  7.41126854e-03  1.90068725e-02  1.53736782e-03 -2.05527153e-02\n",
      " -7.73423240e-02  8.26340318e-02  1.24423280e-02  4.61629182e-02\n",
      "  3.42807025e-02  1.56759787e-02  3.08635049e-02  2.45042481e-02\n",
      " -6.10199496e-02 -3.98229621e-02 -3.41156460e-02  9.68483165e-02\n",
      "  7.84614980e-02 -1.55319972e-02 -8.19556043e-03 -1.51755093e-02\n",
      "  8.17375556e-02 -2.03748345e-02 -4.74206284e-02  1.17869921e-01\n",
      "  4.81722169e-02 -1.64308753e-02 -1.99923143e-02  3.40559073e-02\n",
      "  1.91897824e-02 -1.11138150e-02  2.38971040e-02 -4.21449840e-02\n",
      " -1.80239417e-02  6.29273355e-02  5.68553433e-02 -3.03399470e-02\n",
      " -6.22204505e-02  4.82319243e-04  2.33062189e-02  1.37864091e-02\n",
      "  2.42318008e-02 -9.32811352e-04  1.28145311e-02 -8.85687862e-03\n",
      "  1.55466748e-02 -1.96928307e-02 -7.89598301e-02  3.22812200e-02\n",
      " -1.48851154e-02  2.51808185e-02  3.16038653e-02 -3.40307467e-02\n",
      " -6.76042736e-02  5.46585442e-03  4.15242929e-03  2.14757938e-02\n",
      "  4.05057333e-04 -5.76724000e-02 -3.14143673e-02 -5.12749702e-03\n",
      " -1.45768085e-02  4.73000295e-02 -4.53553237e-02  2.23822240e-02\n",
      "  1.22732846e-02  7.34596550e-02  8.94758552e-02 -3.22810821e-02\n",
      "  3.40584554e-02  4.26344983e-02  2.27361713e-02  3.91280092e-02\n",
      " -4.66801114e-02 -2.49679964e-02  6.23364970e-02  3.55074592e-02\n",
      "  4.96219881e-02 -6.29928410e-02 -2.99680736e-02  2.61816885e-02\n",
      " -3.07871643e-02 -6.62801340e-02 -3.06071509e-02 -3.51119131e-01\n",
      " -8.76046494e-02  5.01712672e-02 -1.29844053e-02 -4.45314217e-03\n",
      " -7.66508132e-02 -3.67721729e-02  5.42537794e-02 -2.24505598e-03\n",
      "  4.28244844e-02  2.10302155e-02  1.01277232e-02  2.11948603e-02\n",
      "  5.69173694e-02  3.02155614e-02  2.17405893e-02 -1.64538007e-02\n",
      "  3.66493501e-02 -5.28237410e-02 -9.35930163e-02  1.53831495e-02\n",
      " -2.27579568e-03 -2.93781478e-02 -1.24959946e-02  9.76190493e-02\n",
      " -5.73286638e-02  8.07737187e-02 -5.95026389e-02 -7.38019263e-03\n",
      "  1.66610498e-02  3.47534381e-02  9.39902477e-03 -1.49270974e-03\n",
      " -6.83272630e-02  1.20603750e-02 -9.47470311e-03 -1.15868896e-02\n",
      "  5.16345166e-02 -1.12864792e-01 -2.65590586e-02 -1.39061185e-02\n",
      "  1.37591539e-02 -4.09409851e-02 -2.71150731e-02 -4.37621437e-02\n",
      " -5.33753401e-03  2.14757193e-02  2.37308405e-02  1.64798880e-03\n",
      "  2.73590162e-03 -7.84100667e-02 -2.36652046e-03  2.41324939e-02\n",
      " -4.99347486e-02 -2.78950166e-02 -9.57135763e-03 -7.87608474e-02\n",
      " -1.03727821e-02  2.48522051e-02 -6.57476077e-04  2.70754681e-03\n",
      " -2.49808952e-02  1.88438073e-02 -3.66362333e-02  3.49557446e-03\n",
      "  3.49220540e-03 -4.06388603e-02  2.40433645e-02 -4.47677113e-02\n",
      " -2.05365326e-02  1.59255806e-02  7.67776221e-02 -3.19562815e-02\n",
      " -4.57197204e-02  6.41321540e-02 -3.32682021e-02  4.46288427e-03\n",
      "  1.29338121e-02  3.92261297e-02  1.00911856e-02  6.41963407e-02\n",
      " -3.78727019e-02  3.74817327e-02 -4.98801619e-02  3.04327682e-02\n",
      "  5.19697070e-02  7.85637554e-03 -2.23177187e-02 -2.35302206e-02\n",
      "  1.61154196e-02  7.58998003e-03  1.29150748e-02 -2.08086409e-02\n",
      " -9.15602595e-02 -2.97204759e-02 -1.41914596e-03 -2.55064011e-01\n",
      " -4.61971015e-03  3.29064578e-02  3.56222540e-02  2.65483931e-02\n",
      "  4.64986311e-03 -5.01904963e-03  4.35380973e-02  4.66535948e-02\n",
      " -8.21698830e-02  4.76604141e-02  4.20249477e-02  1.13179892e-01\n",
      " -1.76363718e-02  3.31567414e-02 -5.13085499e-02  8.27107579e-02\n",
      " -1.25966212e-02  5.68322046e-03 -7.91166797e-02  6.10612370e-02\n",
      " -5.39089218e-02  1.47782490e-01 -6.15524035e-03 -4.89489967e-03\n",
      " -3.10530271e-02  2.75609232e-02 -3.88630852e-02  1.01007111e-02\n",
      " -3.36086005e-02 -1.39082847e-02 -2.29441337e-02  3.91802676e-02\n",
      " -1.45471133e-02  1.03437798e-02  3.63567956e-02  1.61532201e-02\n",
      "  3.92613709e-02 -1.11746797e-02  2.70456858e-02 -9.71655175e-03\n",
      " -1.64694339e-02 -5.83908695e-04  4.41421159e-02  3.87950987e-02\n",
      "  4.90502231e-02 -1.48828076e-02 -6.82943687e-02 -2.11196207e-03\n",
      "  1.56394914e-02 -2.13184394e-02 -4.92096320e-02 -1.86607037e-02\n",
      " -1.70201424e-03 -3.97103000e-03  6.89336583e-02 -4.91143204e-02\n",
      " -2.45385934e-02 -6.21904433e-03  2.79651713e-02  5.48444092e-02\n",
      " -1.73201822e-02  1.19508710e-02 -5.63189900e-03  4.58134376e-02]\n",
      "(384,)\n"
     ]
    }
   ],
   "source": [
    "import  numpy as np\n",
    "print(np.array(huggingface_embeddings.embed_query(final_documents[0].page_content)))\n",
    "print(np.array(huggingface_embeddings.embed_query(final_documents[0].page_content)).shape)"
   ]
  },
  {
   "cell_type": "code",
   "execution_count": 52,
   "metadata": {},
   "outputs": [],
   "source": [
    "## VectorStore Creation\n",
    "vectorstore=FAISS.from_documents(final_documents[:120],huggingface_embeddings)"
   ]
  },
  {
   "cell_type": "code",
   "execution_count": 53,
   "metadata": {},
   "outputs": [
    {
     "name": "stdout",
     "output_type": "stream",
     "text": [
      "tion, with that percentage projected to grow to 66 percent by 2050 [1]. Yet the meaning of\n",
      "urban in such often-cited figures is decidedly unclear: there exists substantial variation across\n",
      "countries in the urban definitions adopted by their statistical authorities, and countries com-\n",
      "monly change definitions over time [2]. Even in the United States, where urban definitions\n",
      "have been well documented and accompanied by census data available in fine spatial detail,\n",
      "the evolution of concepts and measures over the past few decades has made it difficult to craft\n",
      "a consistent analytic account of urbanization [3,4]. In other countries lacking comparable doc-\n",
      "umentation and data, and certainly when comparisons are made across countries, the barriers\n",
      "to understanding urban change can be formidable (see, for example, continental [5] and global\n",
      "[6] efforts to harmonize urban delineations).\n",
      "PLOS ONE | https://doi.or g/10.137 1/journal.po ne.02084 87 December 26, 2018 1 / 20\n",
      "a1111111111\n",
      "a1111111111\n"
     ]
    }
   ],
   "source": [
    "## Query using Similarity Search\n",
    "query=\"HOW HAS THE URBANIZATION CHANGED OVER THE TIME?\"\n",
    "relevant_docments=vectorstore.similarity_search(query)\n",
    "\n",
    "print(relevant_docments[0].page_content)"
   ]
  },
  {
   "cell_type": "code",
   "execution_count": 54,
   "metadata": {},
   "outputs": [
    {
     "name": "stdout",
     "output_type": "stream",
     "text": [
      "tags=['FAISS', 'HuggingFaceBgeEmbeddings'] vectorstore=<langchain_community.vectorstores.faiss.FAISS object at 0x0000020EE78E2C60> search_kwargs={'k': 3}\n"
     ]
    }
   ],
   "source": [
    "retriever=vectorstore.as_retriever(search_type=\"similarity\",search_kwargs={\"k\":3})\n",
    "print(retriever)"
   ]
  },
  {
   "cell_type": "code",
   "execution_count": null,
   "metadata": {},
   "outputs": [],
   "source": [
    "import os\n",
    "os.environ['HUGGINGFACEHUB_API_TOKEN']=\"your_huggingface_api_token\""
   ]
  },
  {
   "cell_type": "markdown",
   "metadata": {},
   "source": [
    "The Hugging Face Hub is an platform with over 350k models, 75k datasets, and 150k demo apps (Spaces), all open source and publicly available, in an online platform where people can easily collaborate and build ML together."
   ]
  },
  {
   "cell_type": "code",
   "execution_count": 65,
   "metadata": {},
   "outputs": [
    {
     "data": {
      "text/plain": [
       "'What is the highest populated city of India?\\n\\nNew Delhi is the highest populated city of India. It is the capital of India and is located in the northern part of the country. It is the largest commercial center of northern India.\\n\\nWhat is the highest populated city of India?\\n\\nNew Delhi is the highest populated city of India. It is the capital of India and is located in the northern part of the country. It is the largest commercial center of northern India.\\n\\nWhat is the highest populated'"
      ]
     },
     "execution_count": 65,
     "metadata": {},
     "output_type": "execute_result"
    }
   ],
   "source": [
    "from langchain_community.llms import HuggingFaceHub\n",
    "\n",
    "hf=HuggingFaceHub(\n",
    "    repo_id=\"mistralai/Mistral-7B-v0.1\",\n",
    "    model_kwargs={\"temperature\":0.1,\"max_length\":500}\n",
    "\n",
    ")\n",
    "query=\"What is the highest populated city of India?\"\n",
    "hf.invoke(query)"
   ]
  },
  {
   "cell_type": "code",
   "execution_count": null,
   "metadata": {},
   "outputs": [],
   "source": [
    "#Hugging Face models can be run locally through the HuggingFacePipeline class.\n",
    "from langchain_community.llms.huggingface_pipeline import HuggingFacePipeline\n",
    "\n",
    "hf = HuggingFacePipeline.from_model_id(\n",
    "    model_id=\"mistralai/Mistral-7B-v0.1\",\n",
    "    task=\"text-generation\",\n",
    "    pipeline_kwargs={\"temperature\": 0, \"max_new_tokens\": 300}\n",
    ")\n",
    "\n",
    "llm = hf \n",
    "llm.invoke(query)"
   ]
  },
  {
   "cell_type": "code",
   "execution_count": 58,
   "metadata": {},
   "outputs": [],
   "source": [
    "prompt_template=\"\"\"\n",
    "Use the following piece of context to answer the question asked.\n",
    "Please try to provide the answer only based on the context\n",
    "\n",
    "{context}\n",
    "Question:{question}\n",
    "\n",
    "Helpful Answers:\n",
    " \"\"\""
   ]
  },
  {
   "cell_type": "code",
   "execution_count": 59,
   "metadata": {},
   "outputs": [],
   "source": [
    "prompt=PromptTemplate(template=prompt_template,input_variables=[\"context\",\"question\"])"
   ]
  },
  {
   "cell_type": "code",
   "execution_count": 60,
   "metadata": {},
   "outputs": [],
   "source": [
    "retrievalQA=RetrievalQA.from_chain_type(\n",
    "    llm=hf,\n",
    "    chain_type=\"stuff\",\n",
    "    retriever=retriever,\n",
    "    return_source_documents=True,\n",
    "    chain_type_kwargs={\"prompt\":prompt}\n",
    ")"
   ]
  },
  {
   "cell_type": "code",
   "execution_count": 61,
   "metadata": {},
   "outputs": [],
   "source": [
    "query=\"\"\"DIFFERENCES IN THE\n",
    "URBAN POPULATION RATE BY STATE\n",
    "IN 2022\"\"\""
   ]
  },
  {
   "cell_type": "code",
   "execution_count": 62,
   "metadata": {},
   "outputs": [
    {
     "name": "stdout",
     "output_type": "stream",
     "text": [
      "\n",
      "Use the following piece of context to answer the question asked.\n",
      "Please try to provide the answer only based on the context\n",
      "\n",
      "the urban population. For the US case, we have shown that the adoption of a 50 percent built-\n",
      "up threshold (and a simple proportional allocation rule), fails to identify some 30 percent of\n",
      "the official urban population. Lower built-up thresholds capture more of the official urban\n",
      "population, and therefore merit careful consideration, as do richer specifications of the built-\n",
      "up surface that take contiguity and proximity into account. Combined census and satellite\n",
      "data can be further analyzed for even more detailed and nuanced characterizations of urban\n",
      "form and systematic evaluation of urban development patterns.\n",
      "GHSL also holds promise for predictions of future urbanization and urban spatial patterns.\n",
      "This is a welcomed and long overdue advance in data and methods in both research and policy\n",
      "circles that have been dominated by use of simple aspatial trend interpolations/extrapolations\n",
      "of population estimates [1]. In the US, non-urban but substantially built-up places show a\n",
      "\n",
      "(BULO), urban people only (UPO), and the residual rural extents (RE)–for each of the three\n",
      "census years, using different GHSL built-up percentage thresholds. Second, we elaborate on\n",
      "how built-up area and officially urban estimates compare in order to evaluate how well one\n",
      "type of data can serve as a proxy for the other. Third, derived from this we describe the built-\n",
      "up levels of our different urban classes in order to better understand urban form as well as\n",
      "urban measurement. Fourth, we focus on the transitions in classes over the three censuses to\n",
      "explore the potential for forecasting urban change.\n",
      "What do urban classes tell us about measures of urbanization?\n",
      "In 1990, the population of the continental United States was 247 million; by 2010 the total had\n",
      "risen to 307 million. Official statistics put the urban population of 2010 at 80.7 percent of the\n",
      "total population, up from 75.1 percent in 1990 [42]. For land area (using the Census defini-\n",
      "\n",
      "time, it has been demonstrated that GHSL reflects urban areas and urban populations, consis-\n",
      "tently, in the sense that the degree of agreement between census-based classifications and\n",
      "GHSL-derived footprints remains essentially constant. These are encouraging results for the\n",
      "use of GHSL in measuring urban extents and change in non-U.S settings, enabling the analyst\n",
      "to maintain consistency in definitional criteria across countries and over time. However, it\n",
      "must also be cautioned that GHSL does not reflect the fullness of more complex urban defini-\n",
      "tions, as we see in the US. Nevertheless, it seems to capture the majority of population (our\n",
      "urban agreement class) that would be considered urban in other settings as well. Lower built-\n",
      "up thresholds capture a greater share of the urban population in the US, pointing to even\n",
      "greater potential in using GHSL at varying thresholds of 50 and less percent built-up.\n",
      "Can GHSL-based urban indicators be used in forecasting?\n",
      "Question:DIFFERENCES IN THE\n",
      "URBAN POPULATION RATE BY STATE\n",
      "IN 2022\n",
      "\n",
      "Helpful Answers:\n",
      " 1.\n",
      " 2.\n",
      " 3.\n",
      " 4.\n",
      " 5.\n",
      " 6.\n",
      " 7.\n",
      " 8.\n",
      " 9.\n",
      " 10.\n",
      " 11.\n",
      " 12.\n",
      " 13.\n",
      " 14.\n",
      " 15.\n",
      " 16.\n",
      " 17.\n",
      " 18.\n",
      " 19.\n",
      " 20.\n",
      " 21.\n",
      " 22.\n",
      "\n"
     ]
    }
   ],
   "source": [
    "# Call the QA chain with our query.\n",
    "result = retrievalQA.invoke({\"query\": query})\n",
    "print(result['result'])"
   ]
  },
  {
   "cell_type": "code",
   "execution_count": null,
   "metadata": {},
   "outputs": [],
   "source": []
  },
  {
   "cell_type": "code",
   "execution_count": null,
   "metadata": {},
   "outputs": [],
   "source": []
  }
 ],
 "metadata": {
  "kernelspec": {
   "display_name": "Python 3 (ipykernel)",
   "language": "python",
   "name": "python3"
  },
  "language_info": {
   "codemirror_mode": {
    "name": "ipython",
    "version": 3
   },
   "file_extension": ".py",
   "mimetype": "text/x-python",
   "name": "python",
   "nbconvert_exporter": "python",
   "pygments_lexer": "ipython3",
   "version": "3.12.3"
  }
 },
 "nbformat": 4,
 "nbformat_minor": 4
}
